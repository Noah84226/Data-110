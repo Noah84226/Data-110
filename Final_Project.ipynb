{
  "nbformat": 4,
  "nbformat_minor": 0,
  "metadata": {
    "colab": {
      "provenance": [],
      "authorship_tag": "ABX9TyMSlJ+FhF3Rzuv6myyt39F5",
      "include_colab_link": true
    },
    "kernelspec": {
      "name": "python3",
      "display_name": "Python 3"
    },
    "language_info": {
      "name": "python"
    }
  },
  "cells": [
    {
      "cell_type": "markdown",
      "metadata": {
        "id": "view-in-github",
        "colab_type": "text"
      },
      "source": [
        "<a href=\"https://colab.research.google.com/github/Noah84226/Data-110/blob/main/Final_Project.ipynb\" target=\"_parent\"><img src=\"https://colab.research.google.com/assets/colab-badge.svg\" alt=\"Open In Colab\"/></a>"
      ]
    },
    {
      "cell_type": "markdown",
      "source": [
        "#Final Project\n",
        "\n",
        "#Air Quality\n",
        "Noah Mengesha\n",
        "\n",
        "Introduction\n",
        "\n",
        "The risk of air pollution to the health of the general public remains significant in urban geographical regions of the United States. An analysis of pollution disparities across cities nationally is based on 2021 EPA statistics. PM2.5, Nitrogen Dioxide (NO2), and Ozone (O3) have been selected for this analysis based on their close relationships with respiratory and cardiovascular problems. The use of visual storytelling enables this study to present changes in pollution patterns within and across diverse locations as well as in time. Here, a case study of Washington, D.C. is applied to discuss temporal trends while comparative variations across several urban areas are described in a larger context. The mission of this report is to provide practical policies for policymakers and society to help improve public health and decrease pollution.\n",
        "\n",
        "Data Source and Motivation\n",
        "\n",
        "The analysis is based on 45000 data points gathered in 2021 that form a part of the EPA’s Air Quality Monitoring System. The dataset collects a series of measurement indices, such as arithmetic means and the Air Quality Index (AQI), as well as geographic and temporal factors, including latitude, longitude, precise time, and the city’s name. The granular data allows a detailed evaluation over both time frames and areas. PM2.5, NO₂, and O₃ were selected because of the importance of each of them in environmental problems, as well as the degree of their data availability. Based on the analysis of these data, we can pinpoint moments when pollution is at its highest, track changes from one season to another, and determine regions where pollution is prevalent. Understanding such trends is critical for designing fruitful ways to reduce and eliminate air pollution.\n",
        "\n",
        "Visualization 1: Daily Trends in Washington, D.C.\n",
        "\n",
        "This chart illustrates how the air pollutant concentrations in Washington, D.C have changed day-to-day in 2021. The concentrations of both PM2.5 and NO₂ vary significantly from day to day, influenced by human activities and atmospheric occurrences. Nevertheless, the seasonal behavior of O3 is stable with the summertime peaks explained by the enhanced positive effect of photochemical processes in sunlight. Air quality alert systems depend on consistent monitoring, as shown by this figure. The data give essential details that can be used to develop the monthly and seasonal pollution prevention measures."
      ],
      "metadata": {
        "id": "Wkj6JfebSgEs"
      }
    },
    {
      "cell_type": "markdown",
      "source": [
        "Visualization 2: Geographic Distribution of Pollutants\n",
        "\n",
        "The scatter map presents an image of the spread of air pollution geographically in the country’s largest urban settings. The size of markers corresponds to the average PM2.5, NO₂, and O₃ measurements, while geo-coordinates highlight pollution hotspots. Typically, urban areas and industrial zones are the most affected by pollutants. This map is a database for the identification of regional differences in air pollution and region-specific steps for controlling air quality. It emphasizes the necessity to make sure that environmental monitoring and policy interventions are implemented equally in any region.\n",
        "\n",
        "Visualization 3: Top Polluted Cities by Pollutant\n",
        "\n",
        "The bar chart identifies the five cities showing the highest average degree of concentration of each major pollutant. Cities hindered by traffic congestion and industrialization suffer the most from PM2.5 and NO₂ pollution, with the highest levels, while areas with high sunlight exposure record the highest Ozone levels. This ranking defines those areas needing intervention the most urgently for air-quality problems. The chart indicates that pollution sources and concentrations vary by city, which is why universal policies are not successful. Specific measures to address air pollution in the most risky areas are needed for positive change.\n",
        "\n",
        "Visualization 4: Static Time Series Trends in Washington, D.C.\n",
        "\n",
        "Building upon the dynamics described from previous charts, this representation distinguishes between D.C.’s air quality in 2021. The low spikes in PM2.5 and NO₂ are likely due to traffic, heating, and sporadic activities in the region. From the O₃ chart, a constant seasonal pattern appears, which is heightened during the summer months, matching its formation via secondary processes. This is evidence of the need to adopt seasonal monitoring plans. This also reveals the differences in the periodic natures of each pollutant. Government officials can use this information to conduct targeted measures on both a daily and seasonal basis.\n",
        "\n",
        "Visualization 5: Heatmap of Pollution Intensity\n",
        "\n",
        "The heatmap provides a visual representation of pollutant levels in the United States cities and is color-coded. Red-dyed areas indicate higher pollutant averages, which tend to occur in cities. The map demonstrates how pollution is unequally spread across US communities. This information is particularly useful in advancing environmental justice agendas. Such a graphic representation can help policymakers allocate resources more effectively to areas with the highest and most disproportionate exposures to pollution.\n",
        "\n",
        "Conclusion\n",
        "\n",
        "According to the study, air quality varies significantly between locations and times of year in American cities. PM2.5 and NO₂ levels are strongly associated with activities such as traffic and heating in urban areas; O₃ is more closely related to seasonal changes. Spatial maps and bar graphs both point to different hotspots in urban areas. Such results underscore the need to develop policy measures with a specific focus rather than generic solutions. Going forward, the emphasis should be on integrating historical data, systems for current monitoring, and predictive analytics. By introducing data science techniques to environmental policy, it is possible to develop fairer and more effective management of air quality.\n",
        "\n",
        "References\n",
        "\n",
        "Gautam, M., Singh, K., Gautam, A. S., & Gautam, S. (2024). Longitudinal study of air pollutants in Indian metropolises: Seasonal patterns and urban variability. Aerosol Science and Engineering. https://link.springer.com/article/10.1007/s41810-024-00262-4\n",
        "\n",
        "Li, J., Yu, S., Zhang, Y., & Wang, Y. (2023). Seasonal dynamics and sources of urban ozone in North America. Environmental Research Letters, 18(1), 014004. https://doi.org/10.1088/1748-9326/acb5d6\n",
        "\n",
        "Zhang, H., Chen, Y., & Liu, X. (2022). Urban morphology and spatial inequality in exposure to air pollutants. Nature Communications, 13(1), 1249. https://www.nature.com/articles/s41467-022-28971-5\n",
        "\n",
        ""
      ],
      "metadata": {
        "id": "cBKyDKJdSRSe"
      }
    }
  ]
}