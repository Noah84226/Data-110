{
  "nbformat": 4,
  "nbformat_minor": 0,
  "metadata": {
    "colab": {
      "private_outputs": true,
      "provenance": [],
      "include_colab_link": true
    },
    "kernelspec": {
      "name": "python3",
      "display_name": "Python 3"
    },
    "language_info": {
      "name": "python"
    }
  },
  "cells": [
    {
      "cell_type": "markdown",
      "metadata": {
        "id": "view-in-github",
        "colab_type": "text"
      },
      "source": [
        "<a href=\"https://colab.research.google.com/github/Noah84226/Data-110/blob/main/Noah_week6_data110_assgnment.ipynb\" target=\"_parent\"><img src=\"https://colab.research.google.com/assets/colab-badge.svg\" alt=\"Open In Colab\"/></a>"
      ]
    },
    {
      "cell_type": "markdown",
      "source": [
        "# Setting Up Your Environment and\n",
        "1. Install any necessary packages"
      ],
      "metadata": {
        "id": "HEqhCWnovnkz"
      }
    },
    {
      "cell_type": "code",
      "execution_count": null,
      "metadata": {
        "id": "5XzeNRjcvSgi"
      },
      "outputs": [],
      "source": [
        "!pip install rpy2\n",
        "!pip install joypy"
      ]
    },
    {
      "cell_type": "markdown",
      "source": [
        "2. Import the required libraries:"
      ],
      "metadata": {
        "id": "sU4hVHMgvyqr"
      }
    },
    {
      "cell_type": "code",
      "source": [
        "import pandas as pd\n",
        "import seaborn as sns\n",
        "import matplotlib.pyplot as plt\n",
        "import numpy as np\n",
        "from joypy import joyplot"
      ],
      "metadata": {
        "id": "2is_tYkxv3fb"
      },
      "execution_count": null,
      "outputs": []
    },
    {
      "cell_type": "markdown",
      "source": [
        "Part 2: Load and Explore the Dataset\n",
        "\n",
        "1. Load the Palmer Penguins dataset:\n",
        "\n",
        "url = \"https://raw.githubusercontent.com/mwaskom/seaborn-data/master/penguins.csv\"\n"
      ],
      "metadata": {
        "id": "5Vs2RF4Rv7Ad"
      }
    },
    {
      "cell_type": "code",
      "source": [
        "penguins=pd.read_csv(\"https://raw.githubusercontent.com/mwaskom/seaborn-data/master/penguins.csv\")\n",
        "\n",
        "penguins.info()\n",
        "penguins.head()"
      ],
      "metadata": {
        "id": "6QCHSOn0wImo"
      },
      "execution_count": null,
      "outputs": []
    },
    {
      "cell_type": "markdown",
      "source": [
        "2. The dataset contains missing values. Handle them by removing rows with NaN values:"
      ],
      "metadata": {
        "id": "zlBc4A29wJQB"
      }
    },
    {
      "cell_type": "code",
      "source": [
        "df_ = penguins.dropna()\n",
        "df_.info()"
      ],
      "metadata": {
        "id": "7tQEwznIwN92"
      },
      "execution_count": null,
      "outputs": []
    },
    {
      "cell_type": "markdown",
      "source": [
        "# Part 2: Data Visualization\n",
        "\n",
        "Task 1: Boxplot - Analyzing Body Mass by Species\n",
        "Create a boxplot to compare the distribution of penguin body mass across different species:"
      ],
      "metadata": {
        "id": "XxVuiEy8wOmO"
      }
    },
    {
      "cell_type": "markdown",
      "source": [],
      "metadata": {
        "id": "yB4k24eDv4H7"
      }
    },
    {
      "cell_type": "code",
      "source": [
        "plt.figure(figsize=(10, 6))\n",
        "sns.boxplot(x='species', y='body_mass_g', data=df_)\n",
        "plt.xlabel('Species')\n",
        "plt.ylabel('Body Mass (g)')\n",
        "plt.title('Distribution of Body Mass by Species')\n",
        "plt.show()\n"
      ],
      "metadata": {
        "id": "b7arlbJYwU35"
      },
      "execution_count": null,
      "outputs": []
    },
    {
      "cell_type": "markdown",
      "source": [
        "Interpretation: Based on the boxplot, answer the following:\n",
        "\n",
        "1. Which species has the largest median body mass?\n",
        "2. Which species has the widest range in body mass?\n",
        "3. Are there any outliers? If so, which species have them?"
      ],
      "metadata": {
        "id": "B2O0ZehfwV1w"
      }
    },
    {
      "cell_type": "markdown",
      "source": [
        "*Your anwswer is here *"
      ],
      "metadata": {
        "id": "SxCnIUPNwdYV"
      }
    },
    {
      "cell_type": "markdown",
      "source": [
        "1, Gentoo\n",
        "\n",
        "2, Gentoo\n",
        "\n",
        "3, Chinstrap species has outliers."
      ],
      "metadata": {
        "id": "JBJdv5TN-M4s"
      }
    },
    {
      "cell_type": "markdown",
      "source": [
        "Task 2: Violin Plot - Flipper Length Distribution by Species\n",
        "Create a violin plot to analyze the distribution of flipper length across species:"
      ],
      "metadata": {
        "id": "nUaripm8wf62"
      }
    },
    {
      "cell_type": "code",
      "source": [
        "sns.violinplot(x='species', y='flipper_length_mm', data=df_)\n",
        "plt.xlabel('Species')\n",
        "plt.ylabel('Flipper Length (mm)')\n",
        "plt.title('Distribution of Flipper Length by Species')\n",
        "plt.xticks(fontsize=8)\n",
        "plt.yticks(fontsize=6)\n",
        "plt.show()"
      ],
      "metadata": {
        "id": "LE_rn94TwjCO"
      },
      "execution_count": null,
      "outputs": []
    },
    {
      "cell_type": "markdown",
      "source": [
        "Interpretation: Answer the following:\n",
        "\n",
        "1. Which species has the most symmetrical distribution?\n",
        "2. Which species has the widest spread of flipper lengths?\n",
        "3. How do the quartiles (white lines in the plot) compare for each species?"
      ],
      "metadata": {
        "id": "bIUx4SW1wmPj"
      }
    },
    {
      "cell_type": "markdown",
      "source": [
        "1, Chinstrap and Adelie\n",
        "\n",
        "2, Adelie\n",
        "\n",
        "3, The size of Adélie penguins is more constant, and the flipper lengths of Gentoo penguins vary widely. Chinstraps' distribution is rather even, with no extreme values."
      ],
      "metadata": {
        "id": "Sb2WR-xJ9EJx"
      }
    },
    {
      "cell_type": "markdown",
      "source": [
        "**Task 3**: Ridgeline Plot - Distribution of Bill Length by Island\n",
        "Use a ridgeline plot to visualize the distribution of bill length across islands:"
      ],
      "metadata": {
        "id": "QDL0M3lww2lq"
      }
    },
    {
      "cell_type": "code",
      "source": [
        "fig, axes = joyplot(df_,\n",
        "                    by='island',\n",
        "                    column='bill_length_mm',\n",
        "                    figsize=(12,8),\n",
        "                    colormap=plt.cm.magma,\n",
        "                    ylabelsize=12,\n",
        "                    xlabelsize=12,\n",
        "                    title=\"Ridgeline Plot of Mean bill length (mm) by island\",\n",
        "                    alpha=0.75)\n",
        "plt.show()"
      ],
      "metadata": {
        "id": "4dngtByNw4nc"
      },
      "execution_count": null,
      "outputs": []
    },
    {
      "cell_type": "markdown",
      "source": [
        "Interpretation: Answer the following:\n",
        "1. Which island has the smallest range of bill lengths?\n",
        "2. Which island has the most uniform distribution?\n",
        "3. What differences do you notice between the islands in terms of bill length?"
      ],
      "metadata": {
        "id": "9ANVWrZTxCfb"
      }
    },
    {
      "cell_type": "markdown",
      "source": [
        "1, The smallest rang of bill length is Torgersen\n",
        "\n",
        "2, The Most uniform distribution is Dream\n",
        "\n",
        "3, Torgersen may display a balanced distribution with fewer extreme values, Dream may display greater variability with a wider spread of bill lengths, and Biscoe may display a distribution with a more concentrated range of bill lengths."
      ],
      "metadata": {
        "id": "XXFmDiYvlT23"
      }
    },
    {
      "cell_type": "markdown",
      "source": [],
      "metadata": {
        "id": "DwKoDGmYlbBG"
      }
    },
    {
      "cell_type": "markdown",
      "source": [
        "upload your completed notebook (.ipynb) to Google Colab or GitHub.\n",
        "Submit the GitHub/Colab link in MS Teams under the assignment post."
      ],
      "metadata": {
        "id": "WclqVUSixJ1D"
      }
    }
  ]
}