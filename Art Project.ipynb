{
  "nbformat": 4,
  "nbformat_minor": 0,
  "metadata": {
    "colab": {
      "provenance": [],
      "authorship_tag": "ABX9TyMWuFPDlbUBSKTCgC7GFXKB",
      "include_colab_link": true
    },
    "kernelspec": {
      "name": "python3",
      "display_name": "Python 3"
    },
    "language_info": {
      "name": "python"
    }
  },
  "cells": [
    {
      "cell_type": "markdown",
      "metadata": {
        "id": "view-in-github",
        "colab_type": "text"
      },
      "source": [
        "<a href=\"https://colab.research.google.com/github/Noah84226/Data-110/blob/main/Art%20Project.ipynb\" target=\"_parent\"><img src=\"https://colab.research.google.com/assets/colab-badge.svg\" alt=\"Open In Colab\"/></a>"
      ]
    },
    {
      "cell_type": "code",
      "execution_count": null,
      "metadata": {
        "id": "c71O34dwgdp8"
      },
      "outputs": [],
      "source": []
    },
    {
      "cell_type": "markdown",
      "source": [
        "## Art Project\n",
        "\n",
        "This piece of art is a graphic representation of a dataset that displays daily energy usage in the transportation, commercial, industrial, and residential sectors. The size and positioning of each cube indicate the proportionate quantity of energy utilized, and each cube represents a distinct day and sector. The layered structure illustrates how our daily total is made up of the accumulation of many energy sources and uses. The intricacy and connectivity of human energy demands throughout time are highlighted by the three-dimensional viewpoint."
      ],
      "metadata": {
        "id": "ff1_vsEWgfYW"
      }
    }
  ]
}